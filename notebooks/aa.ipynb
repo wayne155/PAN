{
 "cells": [
  {
   "cell_type": "code",
   "execution_count": null,
   "metadata": {},
   "outputs": [
    {
     "name": "stdout",
     "output_type": "stream",
     "text": [
      "   Timestamp  Station  District  Freeway Direction of Travel Lane Type  \\\n",
      "0 2015-01-01   715898         7        5                   S        ML   \n",
      "1 2015-01-01   715900         7        5                   S        OR   \n",
      "2 2015-01-01   715901         7        5                   N        OR   \n",
      "3 2015-01-01   715903         7        5                   N        OR   \n",
      "4 2015-01-01   715906         7        5                   S        OR   \n",
      "\n",
      "   Station Length  Samples  % Observed  Total Flow  ...  Lane 9 Samples  \\\n",
      "0            0.43        0           0        97.0  ...             0.0   \n",
      "1            0.00        0           0         0.0  ...             0.0   \n",
      "2            0.00        0           0         0.0  ...             0.0   \n",
      "3            0.00        0           0         0.0  ...             0.0   \n",
      "4            0.00        0           0         0.0  ...             0.0   \n",
      "\n",
      "   Lane 9 Flow  Lane 9 Avg Occ  Lane 9 Avg Speed  Lane 9 Observed  \\\n",
      "0          0.0             0.0               0.0              0.0   \n",
      "1          0.0             0.0               0.0              0.0   \n",
      "2          0.0             0.0               0.0              0.0   \n",
      "3          0.0             0.0               0.0              0.0   \n",
      "4          0.0             0.0               0.0              0.0   \n",
      "\n",
      "   Lane 10 Samples  Lane 10 Flow  Lane 10 Avg Occ  Lane 10 Avg Speed  \\\n",
      "0              0.0           0.0              0.0                0.0   \n",
      "1              0.0           0.0              0.0                0.0   \n",
      "2              0.0           0.0              0.0                0.0   \n",
      "3              0.0           0.0              0.0                0.0   \n",
      "4              0.0           0.0              0.0                0.0   \n",
      "\n",
      "   Lane 10 Observed  \n",
      "0               0.0  \n",
      "1               0.0  \n",
      "2               0.0  \n",
      "3               0.0  \n",
      "4               0.0  \n",
      "\n",
      "[5 rows x 62 columns]\n"
     ]
    }
   ],
   "source": [
    "import pandas as pd\n",
    "\n",
    "def parse_file(file_path):\n",
    "    # Define column names based on the provided description\n",
    "    column_names = [\n",
    "        \"Timestamp\", \"Station\", \"District\", \"Freeway\", \"Direction of Travel\", \"Lane Type\", \n",
    "        \"Station Length\", \"Samples\", \"% Observed\", \"Total Flow\", \"Avg Occupancy\", \"Avg Speed\"\n",
    "    ]\n",
    "    \n",
    "    # Add columns for dynamic Lane N data\n",
    "    max_lanes = 10  # Adjust this number if more lanes are expected\n",
    "    for n in range(1, max_lanes + 1):\n",
    "        column_names.extend([\n",
    "            f\"Lane {n} Samples\", f\"Lane {n} Flow\", f\"Lane {n} Avg Occ\", \n",
    "            f\"Lane {n} Avg Speed\", f\"Lane {n} Observed\"\n",
    "        ])\n",
    "\n",
    "    # Read the CSV file with the correct number of columns\n",
    "    try:\n",
    "        df = pd.read_csv(file_path, names=column_names, index_col=False)\n",
    "    except pd.errors.ParserError as e:\n",
    "        print(f\"Error parsing file: {e}\")\n",
    "        return None\n",
    "\n",
    "    # Convert 'Timestamp' to datetime for easier manipulation\n",
    "    df['Timestamp'] = pd.to_datetime(df['Timestamp'], format='%m/%d/%Y %H:%M:%S', errors='coerce')\n",
    "\n",
    "    # Clean and handle missing values\n",
    "    df = df.fillna(0)  # Replace NaNs with 0 for easier computation\n",
    "    df[\"Station Length\"] = pd.to_numeric(df[\"Station Length\"], errors='coerce')  # Handle numeric conversion\n",
    "    \n",
    "    # Display first few rows for verification\n",
    "    print(df.head())\n",
    "    \n",
    "    return df\n",
    "\n",
    "# Example usage\n",
    "file_path = \"./d07_text_station_5min_2015_01_01.txt\"  # Replace with your file path\n",
    "data = parse_file(file_path)\n",
    "\n",
    "# Optionally save the cleaned data to a new CSV\n",
    "# if data is not None:\n",
    "#     data.to_csv(\"parsed_output.csv\", index=False)\n"
   ]
  },
  {
   "cell_type": "code",
   "execution_count": null,
   "metadata": {},
   "outputs": [],
   "source": []
  }
 ],
 "metadata": {
  "kernelspec": {
   "display_name": "testpyt",
   "language": "python",
   "name": "python3"
  },
  "language_info": {
   "codemirror_mode": {
    "name": "ipython",
    "version": 3
   },
   "file_extension": ".py",
   "mimetype": "text/x-python",
   "name": "python",
   "nbconvert_exporter": "python",
   "pygments_lexer": "ipython3",
   "version": "3.8.19"
  }
 },
 "nbformat": 4,
 "nbformat_minor": 2
}
